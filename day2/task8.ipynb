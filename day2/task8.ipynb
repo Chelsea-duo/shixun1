{
 "cells": [
  {
   "cell_type": "code",
   "execution_count": 11,
   "id": "1e9bc8c6-35a7-4bd7-9803-4f0b4f650962",
   "metadata": {},
   "outputs": [
    {
     "name": "stdout",
     "output_type": "stream",
     "text": [
      "数组形状: (3, 4)\n",
      "数组维度: 2\n",
      "数据类型: int32\n",
      "\n",
      "乘以2后的数组:\n",
      "[[ 2  4  6  8]\n",
      " [10 12 14 16]\n",
      " [18 20 22 24]]\n",
      "\n",
      "重塑为4x3的数组:\n",
      "[[ 1  2  3]\n",
      " [ 4  5  6]\n",
      " [ 7  8  9]\n",
      " [10 11 12]]\n"
     ]
    }
   ],
   "source": [
    "#作业1：数组创建与属性分析\n",
    "\n",
    "import numpy as np\n",
    "\n",
    "# 创建 3x4 的二维数组\n",
    "arr = np.array([[1, 2, 3, 4],\n",
    "                [5, 6, 7, 8],\n",
    "                [9, 10, 11, 12]])\n",
    "\n",
    "# 1. 打印数组的形状、维度和数据类型\n",
    "print(\"数组形状:\", arr.shape)\n",
    "print(\"数组维度:\", arr.ndim)\n",
    "print(\"数据类型:\", arr.dtype)\n",
    "\n",
    "# 2. 将数组元素乘以2并打印\n",
    "arr_double = arr * 2\n",
    "print(\"\\n乘以2后的数组:\")\n",
    "print(arr_double)\n",
    "\n",
    "# 3. 重塑为4x3的形状并打印\n",
    "arr_reshaped = arr.reshape(4, 3)\n",
    "print(\"\\n重塑为4x3的数组:\")\n",
    "print(arr_reshaped)"
   ]
  },
  {
   "cell_type": "code",
   "execution_count": 12,
   "id": "0a0b7566-b69e-4d1b-96da-0de84047cc38",
   "metadata": {},
   "outputs": [
    {
     "name": "stdout",
     "output_type": "stream",
     "text": [
      "第2行元素: [5 6 7 8]\n",
      "第3列元素: [ 3  7 11 15]\n",
      "子数组:\n",
      "[[2 3]\n",
      " [6 7]]\n",
      "\n",
      "修改后的数组:\n",
      "[[ 1  2  3  4]\n",
      " [ 5  6  7  8]\n",
      " [ 9 10  0  0]\n",
      " [ 0  0  0  0]]\n"
     ]
    }
   ],
   "source": [
    "#作业2：数组索引与切片\n",
    "\n",
    "import numpy as np\n",
    "\n",
    "# 给定数组\n",
    "array = np.array([[1, 2, 3, 4],\n",
    "                  [5, 6, 7, 8],\n",
    "                  [9, 10, 11, 12],\n",
    "                  [13, 14, 15, 16]])\n",
    "\n",
    "# 1. 提取第2行所有元素（索引为1）\n",
    "row2 = array[1, :]\n",
    "print(\"第2行元素:\", row2)\n",
    "\n",
    "# 2. 提取第3列所有元素（索引为2）\n",
    "col3 = array[:, 2]\n",
    "print(\"第3列元素:\", col3)\n",
    "\n",
    "# 3. 提取子数组（第1、2行和第2、3列）\n",
    "sub_array = array[0:2, 1:3]\n",
    "print(\"子数组:\")\n",
    "print(sub_array)\n",
    "\n",
    "# 4. 将大于10的元素替换为0\n",
    "array_modified = np.where(array > 10, 0, array)\n",
    "print(\"\\n修改后的数组:\")\n",
    "print(array_modified)"
   ]
  },
  {
   "cell_type": "code",
   "execution_count": 13,
   "id": "e2a067fe",
   "metadata": {},
   "outputs": [
    {
     "name": "stdout",
     "output_type": "stream",
     "text": [
      "A + B:\n",
      "[[11 22]\n",
      " [13 24]\n",
      " [15 26]]\n",
      "\n",
      "A * B:\n",
      "[[ 10  40]\n",
      " [ 30  80]\n",
      " [ 50 120]]\n",
      "\n",
      "A的每一行与B的点积:\n",
      "[ 50 110 170]\n"
     ]
    }
   ],
   "source": [
    "#作业3：数组运算与广播\n",
    "\n",
    "import numpy as np\n",
    "\n",
    "# 创建数组A（3x2）\n",
    "A = np.array([[1, 2],\n",
    "              [3, 4],\n",
    "              [5, 6]])\n",
    "\n",
    "# 创建数组B（一维数组）\n",
    "B = np.array([10, 20])\n",
    "\n",
    "# 1. 计算A和B的逐元素相加（利用广播）\n",
    "sum_result = A + B\n",
    "print(\"A + B:\")\n",
    "print(sum_result)\n",
    "\n",
    "# 2. 计算A和B的逐元素相乘（利用广播）\n",
    "product_result = A * B\n",
    "print(\"\\nA * B:\")\n",
    "print(product_result)\n",
    "\n",
    "# 3. 计算A的每一行与B的点积\n",
    "dot_products = np.dot(A, B)\n",
    "print(\"\\nA的每一行与B的点积:\")\n",
    "print(dot_products)"
   ]
  },
  {
   "cell_type": "code",
   "execution_count": null,
   "id": "a52096be-25dd-496f-8728-cd591949712a",
   "metadata": {},
   "outputs": [],
   "source": []
  }
 ],
 "metadata": {
  "kernelspec": {
   "display_name": "Python 3 (ipykernel)",
   "language": "python",
   "name": "python3"
  },
  "language_info": {
   "codemirror_mode": {
    "name": "ipython",
    "version": 3
   },
   "file_extension": ".py",
   "mimetype": "text/x-python",
   "name": "python",
   "nbconvert_exporter": "python",
   "pygments_lexer": "ipython3",
   "version": "3.10.3"
  }
 },
 "nbformat": 4,
 "nbformat_minor": 5
}
